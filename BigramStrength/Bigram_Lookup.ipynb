{
 "cells": [
  {
   "cell_type": "markdown",
   "metadata": {},
   "source": [
    "#Bigram Lookup\n",
    "\n",
    "Script to look up pointwise mutual information values calculated for the bigrams in my dissertation experiment stimuli. This is for Chapter 3 of my dissertation, analyzing association strength within and across IU and clause boundaries. \n",
    "\n",
    "The pointwise MI values were calcultated for all bigrams in the Santa Barbara Corpus and saved as SBC-bigrams.txt \n",
    "\n",
    "The bigrams in my stimuli are contained in WordPairsScores.csv"
   ]
  },
  {
   "cell_type": "code",
   "execution_count": 211,
   "metadata": {
    "collapsed": true
   },
   "outputs": [],
   "source": [
    "import pandas as pd\n",
    "from nltk import WordNetLemmatizer\n",
    "import numpy as np\n",
    "import re"
   ]
  },
  {
   "cell_type": "markdown",
   "metadata": {},
   "source": [
    "##Opening Word Pairs"
   ]
  },
  {
   "cell_type": "code",
   "execution_count": 212,
   "metadata": {
    "collapsed": false
   },
   "outputs": [
    {
     "data": {
      "text/plain": [
       "Index([u'CLCount', u'IUCount', u'IUStatus', u'MatchStatus', u'StimID',\n",
       "       u'Subject', u'WCount', u'Word', u'WordPosition', u'Matching',\n",
       "       u'WithinIU', u'ClauseBoundary', u'Boundary', u'BoundaryType', u'POS'],\n",
       "      dtype='object')"
      ]
     },
     "execution_count": 212,
     "metadata": {},
     "output_type": "execute_result"
    }
   ],
   "source": [
    "WordPairs = pd.read_csv(\"/Users/heathersimpson/Documents/Dissertation/Articles/Chp3_IUvsClauseBoundaries/WordPairsScores_withPOS.csv\", sep=\"\\t\", index_col=None)\n",
    "WordPairs.columns"
   ]
  },
  {
   "cell_type": "code",
   "execution_count": 213,
   "metadata": {
    "collapsed": false
   },
   "outputs": [
    {
     "data": {
      "text/plain": [
       "0          Then-when\n",
       "1          when-when\n",
       "2             when-a\n",
       "3           a-person\n",
       "4       person-fills\n",
       "5          fills-out\n",
       "6             out-or\n",
       "7             or-has\n",
       "8          has-other\n",
       "9    other-employees\n",
       "Name: Word, dtype: object"
      ]
     },
     "execution_count": 213,
     "metadata": {},
     "output_type": "execute_result"
    }
   ],
   "source": [
    "WordPairs['Word'][:10]"
   ]
  },
  {
   "cell_type": "markdown",
   "metadata": {},
   "source": [
    "##Opening SBC-bigrams"
   ]
  },
  {
   "cell_type": "code",
   "execution_count": 214,
   "metadata": {
    "collapsed": false
   },
   "outputs": [],
   "source": [
    "bigrams = pd.read_csv(\"SBC-bigrams.txt\", sep=\"\\t\")"
   ]
  },
  {
   "cell_type": "markdown",
   "metadata": {},
   "source": [
    "Make sure it looks right"
   ]
  },
  {
   "cell_type": "code",
   "execution_count": 215,
   "metadata": {
    "collapsed": false
   },
   "outputs": [
    {
     "data": {
      "text/html": [
       "<div>\n",
       "<table border=\"1\" class=\"dataframe\">\n",
       "  <thead>\n",
       "    <tr style=\"text-align: right;\">\n",
       "      <th></th>\n",
       "      <th>Word1</th>\n",
       "      <th>Word2</th>\n",
       "      <th>pwMI</th>\n",
       "    </tr>\n",
       "  </thead>\n",
       "  <tbody>\n",
       "    <tr>\n",
       "      <th>0</th>\n",
       "      <td>let's</td>\n",
       "      <td>break</td>\n",
       "      <td>3.078091</td>\n",
       "    </tr>\n",
       "    <tr>\n",
       "      <th>1</th>\n",
       "      <td>she'll</td>\n",
       "      <td>cut</td>\n",
       "      <td>5.727598</td>\n",
       "    </tr>\n",
       "    <tr>\n",
       "      <th>2</th>\n",
       "      <td>an</td>\n",
       "      <td>antique</td>\n",
       "      <td>5.382757</td>\n",
       "    </tr>\n",
       "    <tr>\n",
       "      <th>3</th>\n",
       "      <td>account</td>\n",
       "      <td>who</td>\n",
       "      <td>3.001011</td>\n",
       "    </tr>\n",
       "    <tr>\n",
       "      <th>4</th>\n",
       "      <td>very</td>\n",
       "      <td>top</td>\n",
       "      <td>2.329182</td>\n",
       "    </tr>\n",
       "  </tbody>\n",
       "</table>\n",
       "</div>"
      ],
      "text/plain": [
       "     Word1    Word2      pwMI\n",
       "0    let's    break  3.078091\n",
       "1   she'll      cut  5.727598\n",
       "2       an  antique  5.382757\n",
       "3  account      who  3.001011\n",
       "4     very      top  2.329182"
      ]
     },
     "execution_count": 215,
     "metadata": {},
     "output_type": "execute_result"
    }
   ],
   "source": [
    "bigrams.head()"
   ]
  },
  {
   "cell_type": "markdown",
   "metadata": {},
   "source": [
    "I'll join the Word1 and Word2 strings with a dash so they will be efficiently matched as a single string"
   ]
  },
  {
   "cell_type": "code",
   "execution_count": 216,
   "metadata": {
    "collapsed": true
   },
   "outputs": [],
   "source": [
    "bigrams['Word1and2']= map(lambda x,y: x+\"-\"+y, bigrams['Word1'], bigrams['Word2'])"
   ]
  },
  {
   "cell_type": "code",
   "execution_count": 217,
   "metadata": {
    "collapsed": false
   },
   "outputs": [
    {
     "data": {
      "text/plain": [
       "0     let's-break\n",
       "1      she'll-cut\n",
       "2      an-antique\n",
       "3     account-who\n",
       "4        very-top\n",
       "5        minus-ex\n",
       "6     free-ticket\n",
       "7     shit-really\n",
       "8    be-beautiful\n",
       "9      visit-with\n",
       "Name: Word1and2, dtype: object"
      ]
     },
     "execution_count": 217,
     "metadata": {},
     "output_type": "execute_result"
    }
   ],
   "source": [
    "bigrams['Word1and2'][:10]"
   ]
  },
  {
   "cell_type": "markdown",
   "metadata": {},
   "source": [
    "##Lemmatize WordPairs\n",
    "We need to run the WordNet Lemmatizer on the nouns and verbs in the stimulus word pairs, so that we can accurately match them to the lemmatized SBC bigrams, and lower the strings.\n",
    "\n",
    "We need their POS tags from WordPairs (extracted in GetPOSTagsforWordPairs.ipynb)\n"
   ]
  },
  {
   "cell_type": "code",
   "execution_count": 218,
   "metadata": {
    "collapsed": true
   },
   "outputs": [],
   "source": [
    "wnl = WordNetLemmatizer()"
   ]
  },
  {
   "cell_type": "code",
   "execution_count": 219,
   "metadata": {
    "collapsed": false
   },
   "outputs": [],
   "source": [
    "def getlemWordPairs(words, pos):\n",
    "    newwords = []\n",
    "    count = 0\n",
    "    for w in words:\n",
    "        eachw = w.split(\"-\")\n",
    "        eachpos = pos[count].split(\"-\")\n",
    "        if len(eachpos)==3: # accounts for contractions like \"wasn't\" that were split by parser\n",
    "            eachpos.pop(1)\n",
    "        for i in range(len(eachw)):\n",
    "            eachw[i] = eachw[i].lower()\n",
    "            if eachpos[i][0]== \"N\":\n",
    "                eachw[i] = wnl.lemmatize(eachw[i],\"n\")\n",
    "            elif eachpos[i][0] == \"V\":\n",
    "                eachw[i]= wnl.lemmatize(eachw[i],\"v\")\n",
    "        pair = \"-\".join(eachw)\n",
    "        newwords.append(pair)\n",
    "        count+=1\n",
    "    return newwords   "
   ]
  },
  {
   "cell_type": "markdown",
   "metadata": {},
   "source": [
    "run function to lemmatize WordPairs"
   ]
  },
  {
   "cell_type": "code",
   "execution_count": 220,
   "metadata": {
    "collapsed": true
   },
   "outputs": [],
   "source": [
    "lemWordPairs = getlemWordPairs(WordPairs['Word'], WordPairs['POS'])"
   ]
  },
  {
   "cell_type": "code",
   "execution_count": 221,
   "metadata": {
    "collapsed": false
   },
   "outputs": [
    {
     "data": {
      "text/plain": [
       "['then-when',\n",
       " 'when-when',\n",
       " 'when-a',\n",
       " 'a-person',\n",
       " u'person-fill',\n",
       " u'fill-out',\n",
       " 'out-or',\n",
       " u'or-have',\n",
       " u'have-other',\n",
       " u'other-employee']"
      ]
     },
     "execution_count": 221,
     "metadata": {},
     "output_type": "execute_result"
    }
   ],
   "source": [
    "lemWordPairs[:10]"
   ]
  },
  {
   "cell_type": "code",
   "execution_count": 222,
   "metadata": {
    "collapsed": true
   },
   "outputs": [],
   "source": [
    "WordPairs['lemWordPairs'] = lemWordPairs"
   ]
  },
  {
   "cell_type": "code",
   "execution_count": 223,
   "metadata": {
    "collapsed": false
   },
   "outputs": [
    {
     "data": {
      "text/html": [
       "<div>\n",
       "<table border=\"1\" class=\"dataframe\">\n",
       "  <thead>\n",
       "    <tr style=\"text-align: right;\">\n",
       "      <th></th>\n",
       "      <th>CLCount</th>\n",
       "      <th>IUCount</th>\n",
       "      <th>IUStatus</th>\n",
       "      <th>MatchStatus</th>\n",
       "      <th>StimID</th>\n",
       "      <th>Subject</th>\n",
       "      <th>WCount</th>\n",
       "      <th>Word</th>\n",
       "      <th>WordPosition</th>\n",
       "      <th>Matching</th>\n",
       "      <th>WithinIU</th>\n",
       "      <th>ClauseBoundary</th>\n",
       "      <th>Boundary</th>\n",
       "      <th>BoundaryType</th>\n",
       "      <th>POS</th>\n",
       "      <th>lemWordPairs</th>\n",
       "    </tr>\n",
       "  </thead>\n",
       "  <tbody>\n",
       "    <tr>\n",
       "      <th>0</th>\n",
       "      <td>10</td>\n",
       "      <td>14</td>\n",
       "      <td>acrossIU</td>\n",
       "      <td>bothforgotten</td>\n",
       "      <td>0</td>\n",
       "      <td>0</td>\n",
       "      <td>71</td>\n",
       "      <td>Then-when</td>\n",
       "      <td>0.007042</td>\n",
       "      <td>1</td>\n",
       "      <td>0</td>\n",
       "      <td>0</td>\n",
       "      <td>1</td>\n",
       "      <td>IU</td>\n",
       "      <td>RB-WRB</td>\n",
       "      <td>then-when</td>\n",
       "    </tr>\n",
       "    <tr>\n",
       "      <th>1</th>\n",
       "      <td>10</td>\n",
       "      <td>14</td>\n",
       "      <td>withinIU</td>\n",
       "      <td>bothforgotten</td>\n",
       "      <td>0</td>\n",
       "      <td>0</td>\n",
       "      <td>71</td>\n",
       "      <td>when-when</td>\n",
       "      <td>0.021127</td>\n",
       "      <td>1</td>\n",
       "      <td>1</td>\n",
       "      <td>0</td>\n",
       "      <td>0</td>\n",
       "      <td>None</td>\n",
       "      <td>WRB-WRB</td>\n",
       "      <td>when-when</td>\n",
       "    </tr>\n",
       "    <tr>\n",
       "      <th>2</th>\n",
       "      <td>10</td>\n",
       "      <td>14</td>\n",
       "      <td>withinIU</td>\n",
       "      <td>bothforgotten</td>\n",
       "      <td>0</td>\n",
       "      <td>0</td>\n",
       "      <td>71</td>\n",
       "      <td>when-a</td>\n",
       "      <td>0.035211</td>\n",
       "      <td>1</td>\n",
       "      <td>1</td>\n",
       "      <td>1</td>\n",
       "      <td>1</td>\n",
       "      <td>Clause</td>\n",
       "      <td>WRB-DT</td>\n",
       "      <td>when-a</td>\n",
       "    </tr>\n",
       "    <tr>\n",
       "      <th>3</th>\n",
       "      <td>10</td>\n",
       "      <td>14</td>\n",
       "      <td>withinIU</td>\n",
       "      <td>bothforgotten</td>\n",
       "      <td>0</td>\n",
       "      <td>0</td>\n",
       "      <td>71</td>\n",
       "      <td>a-person</td>\n",
       "      <td>0.049296</td>\n",
       "      <td>1</td>\n",
       "      <td>1</td>\n",
       "      <td>0</td>\n",
       "      <td>0</td>\n",
       "      <td>None</td>\n",
       "      <td>DT-NN</td>\n",
       "      <td>a-person</td>\n",
       "    </tr>\n",
       "    <tr>\n",
       "      <th>4</th>\n",
       "      <td>10</td>\n",
       "      <td>14</td>\n",
       "      <td>withinIU</td>\n",
       "      <td>bothforgotten</td>\n",
       "      <td>0</td>\n",
       "      <td>0</td>\n",
       "      <td>71</td>\n",
       "      <td>person-fills</td>\n",
       "      <td>0.063380</td>\n",
       "      <td>1</td>\n",
       "      <td>1</td>\n",
       "      <td>0</td>\n",
       "      <td>0</td>\n",
       "      <td>None</td>\n",
       "      <td>NN-VBZ</td>\n",
       "      <td>person-fill</td>\n",
       "    </tr>\n",
       "  </tbody>\n",
       "</table>\n",
       "</div>"
      ],
      "text/plain": [
       "   CLCount  IUCount  IUStatus    MatchStatus  StimID  Subject  WCount  \\\n",
       "0       10       14  acrossIU  bothforgotten       0        0      71   \n",
       "1       10       14  withinIU  bothforgotten       0        0      71   \n",
       "2       10       14  withinIU  bothforgotten       0        0      71   \n",
       "3       10       14  withinIU  bothforgotten       0        0      71   \n",
       "4       10       14  withinIU  bothforgotten       0        0      71   \n",
       "\n",
       "           Word  WordPosition  Matching  WithinIU  ClauseBoundary  Boundary  \\\n",
       "0     Then-when      0.007042         1         0               0         1   \n",
       "1     when-when      0.021127         1         1               0         0   \n",
       "2        when-a      0.035211         1         1               1         1   \n",
       "3      a-person      0.049296         1         1               0         0   \n",
       "4  person-fills      0.063380         1         1               0         0   \n",
       "\n",
       "  BoundaryType      POS lemWordPairs  \n",
       "0           IU   RB-WRB    then-when  \n",
       "1         None  WRB-WRB    when-when  \n",
       "2       Clause   WRB-DT       when-a  \n",
       "3         None    DT-NN     a-person  \n",
       "4         None   NN-VBZ  person-fill  "
      ]
     },
     "execution_count": 223,
     "metadata": {},
     "output_type": "execute_result"
    }
   ],
   "source": [
    "WordPairs[:5]"
   ]
  },
  {
   "cell_type": "markdown",
   "metadata": {},
   "source": [
    "##Look up pointwise MI in SBC-bigrams\n"
   ]
  },
  {
   "cell_type": "markdown",
   "metadata": {},
   "source": [
    "###First let's get a subset of WordPairs for one Subject\n",
    "The same Word pairs are repeated for all subjects in the dataset WordPairs, so if we do the lookup on this list it will be unnecessarily large"
   ]
  },
  {
   "cell_type": "code",
   "execution_count": 224,
   "metadata": {
    "collapsed": true
   },
   "outputs": [],
   "source": [
    "bysubj = WordPairs.groupby('Subject')"
   ]
  },
  {
   "cell_type": "code",
   "execution_count": 225,
   "metadata": {
    "collapsed": true
   },
   "outputs": [],
   "source": [
    "subj0 = bysubj.get_group(0)\n",
    "pairs_words = subj0['lemWordPairs'].values\n",
    "pos = subj0['POS'].values"
   ]
  },
  {
   "cell_type": "code",
   "execution_count": 226,
   "metadata": {
    "collapsed": false
   },
   "outputs": [],
   "source": [
    "mi = bigrams['pwMI'][bigrams['Word1and2']=='then-when'].values"
   ]
  },
  {
   "cell_type": "code",
   "execution_count": 227,
   "metadata": {
    "collapsed": false
   },
   "outputs": [
    {
     "data": {
      "text/plain": [
       "1.56904680453"
      ]
     },
     "execution_count": 227,
     "metadata": {},
     "output_type": "execute_result"
    }
   ],
   "source": [
    "float(mi[0])"
   ]
  },
  {
   "cell_type": "code",
   "execution_count": 229,
   "metadata": {
    "collapsed": false
   },
   "outputs": [],
   "source": [
    "pointwiseMI = []\n",
    "for p in pairs_words:\n",
    "    MI = bigrams['pwMI'][bigrams['Word1and2']==p].values\n",
    "    if len(MI)>0:\n",
    "        pointwiseMI.append(float(MI[0]))\n",
    "    else:\n",
    "        pointwiseMI.append(0)"
   ]
  },
  {
   "cell_type": "code",
   "execution_count": 230,
   "metadata": {
    "collapsed": false
   },
   "outputs": [
    {
     "data": {
      "text/plain": [
       "1964"
      ]
     },
     "execution_count": 230,
     "metadata": {},
     "output_type": "execute_result"
    }
   ],
   "source": [
    "len(pointwiseMI)"
   ]
  },
  {
   "cell_type": "code",
   "execution_count": 231,
   "metadata": {
    "collapsed": false
   },
   "outputs": [
    {
     "data": {
      "text/plain": [
       "[1.56904680453,\n",
       " 1.55277197863,\n",
       " -0.900085678179,\n",
       " 2.3944431431599997,\n",
       " 4.05753539495]"
      ]
     },
     "execution_count": 231,
     "metadata": {},
     "output_type": "execute_result"
    }
   ],
   "source": [
    "pointwiseMI[0:5]"
   ]
  },
  {
   "cell_type": "markdown",
   "metadata": {},
   "source": [
    "Check out results"
   ]
  },
  {
   "cell_type": "code",
   "execution_count": 232,
   "metadata": {
    "collapsed": false
   },
   "outputs": [
    {
     "data": {
      "text/plain": [
       "614"
      ]
     },
     "execution_count": 232,
     "metadata": {},
     "output_type": "execute_result"
    }
   ],
   "source": [
    "pointwiseMI.index(max(pointwiseMI))"
   ]
  },
  {
   "cell_type": "code",
   "execution_count": 233,
   "metadata": {
    "collapsed": false
   },
   "outputs": [
    {
     "data": {
      "text/plain": [
       "'terrazzo-flooring'"
      ]
     },
     "execution_count": 233,
     "metadata": {},
     "output_type": "execute_result"
    }
   ],
   "source": [
    "pairs_words[614]"
   ]
  },
  {
   "cell_type": "markdown",
   "metadata": {},
   "source": [
    "This makes sense because both of these words probably appear only once, with each other... shows we should norm against frequency? Or include frequency in the regression? Or use a larger corpus? or a diff measure?"
   ]
  },
  {
   "cell_type": "markdown",
   "metadata": {},
   "source": [
    "##Add pointwise MI to WordPairs csv\n",
    "\n",
    "First need to multiply pointwiseMI by number of subjects so it's same length as WordPairs"
   ]
  },
  {
   "cell_type": "code",
   "execution_count": 234,
   "metadata": {
    "collapsed": false
   },
   "outputs": [
    {
     "data": {
      "text/plain": [
       "198364"
      ]
     },
     "execution_count": 234,
     "metadata": {},
     "output_type": "execute_result"
    }
   ],
   "source": [
    "len(pointwiseMI*101)"
   ]
  },
  {
   "cell_type": "code",
   "execution_count": 235,
   "metadata": {
    "collapsed": false
   },
   "outputs": [
    {
     "data": {
      "text/plain": [
       "198364"
      ]
     },
     "execution_count": 235,
     "metadata": {},
     "output_type": "execute_result"
    }
   ],
   "source": [
    "len(WordPairs)"
   ]
  },
  {
   "cell_type": "code",
   "execution_count": 236,
   "metadata": {
    "collapsed": false
   },
   "outputs": [],
   "source": [
    "#pointwiseMI = list(pointwiseMI)\n",
    "#pointwiseMI[pointwiseMI==None]"
   ]
  },
  {
   "cell_type": "code",
   "execution_count": 237,
   "metadata": {
    "collapsed": false
   },
   "outputs": [
    {
     "name": "stdout",
     "output_type": "stream",
     "text": [
      "home-patch RB-VBD at position 253\n",
      "patch-us VBD-PRP at position 254\n",
      "so-crippling NN-JJ at position 337\n",
      "service-debt VBN-NN at position 382\n",
      "step-buck NNS-VBD at position 439\n",
      "buck-kick VBD-VBD at position 440\n",
      "and-polish CC-VBN at position 611\n",
      "polish-this VBN-DT at position 612\n",
      "between-build IN-VBG at position 1198\n",
      "of-enlighten IN-VBG at position 1385\n",
      "enlighten-his VBG-PRP$ at position 1386\n",
      "and-rearended CC-VBD at position 1438\n",
      "rearended-em VBD-NN at position 1439\n",
      "of-decompose IN-VBG at position 1547\n",
      "decompose-or VBG-CC at position 1548\n",
      "ninety-sixes VBZ-VBZ at position 1637\n",
      "sixes-i VBZ-PRP at position 1638\n",
      "of-bite IN-VBD at position 1838\n",
      "phone-hmm NN-JJ at position 1941\n",
      "hmm-be JJ-VBZ at position 1942\n",
      "other-incidences JJ-JJ at position 1956\n",
      "incidences-where JJ-WRB at position 1957\n"
     ]
    }
   ],
   "source": [
    "count = 0\n",
    "no_match_inSBCbigrams = []\n",
    "for m in pointwiseMI:\n",
    "    if m == 0:        \n",
    "        print pairs_words[count] + \" \" + pos[count] + \" at position \" + str(count)\n",
    "        no_match_inSBCbigrams.append(count)\n",
    "    count+=1"
   ]
  },
  {
   "cell_type": "code",
   "execution_count": 238,
   "metadata": {
    "collapsed": false
   },
   "outputs": [
    {
     "data": {
      "text/plain": [
       "22"
      ]
     },
     "execution_count": 238,
     "metadata": {},
     "output_type": "execute_result"
    }
   ],
   "source": [
    "len(no_match_inSBCbigrams)"
   ]
  },
  {
   "cell_type": "markdown",
   "metadata": {},
   "source": [
    "### Look up non-lemmatized version of non-matched pairs in non-lemmatized version of corpus"
   ]
  },
  {
   "cell_type": "markdown",
   "metadata": {},
   "source": [
    "Load in non-lemmatized bigrams"
   ]
  },
  {
   "cell_type": "code",
   "execution_count": 239,
   "metadata": {
    "collapsed": true
   },
   "outputs": [],
   "source": [
    "nonlembigrams = pd.read_csv(\"SBC-nonlembigrams.txt\", sep=\"\\t\")\n",
    "nonlembigrams['Word1and2']= map(lambda x,y: x+\"-\"+y, nonlembigrams['Word1'], nonlembigrams['Word2'])"
   ]
  },
  {
   "cell_type": "code",
   "execution_count": null,
   "metadata": {
    "collapsed": true
   },
   "outputs": [],
   "source": [
    "nonlembigrams.head()"
   ]
  },
  {
   "cell_type": "markdown",
   "metadata": {},
   "source": [
    "Look up using lowered version of WordPairs['Word']"
   ]
  },
  {
   "cell_type": "code",
   "execution_count": null,
   "metadata": {
    "collapsed": true
   },
   "outputs": [],
   "source": [
    "nonlem_pairwords = [w.lower() for w in WordPairs['Word'].values]\n",
    "nonlem_pairwords[:10]"
   ]
  },
  {
   "cell_type": "code",
   "execution_count": 243,
   "metadata": {
    "collapsed": false
   },
   "outputs": [],
   "source": [
    "nonlempointwiseMI = []\n",
    "for p in pairs_words:\n",
    "    MI = nonlembigrams['pwMI'][nonlembigrams['Word1and2']==p].values\n",
    "    if len(MI)>0:\n",
    "        nonlempointwiseMI.append(float(MI[0]))\n",
    "    else:\n",
    "        nonlempointwiseMI.append(0)"
   ]
  },
  {
   "cell_type": "code",
   "execution_count": 244,
   "metadata": {
    "collapsed": false
   },
   "outputs": [
    {
     "data": {
      "text/plain": [
       "1964"
      ]
     },
     "execution_count": 244,
     "metadata": {},
     "output_type": "execute_result"
    }
   ],
   "source": [
    "len(nonlempointwiseMI)"
   ]
  },
  {
   "cell_type": "markdown",
   "metadata": {},
   "source": [
    "###Replace MI = 0 values with non-lem MI values"
   ]
  },
  {
   "cell_type": "code",
   "execution_count": null,
   "metadata": {
    "collapsed": true
   },
   "outputs": [],
   "source": [
    "for p in no_match_inSBCbigrams:\n",
    "    print \"replacing 0 with \" + str(nonlempointwiseMI[p])\n",
    "    pointwiseMI[p] = nonlempointwiseMI[p]"
   ]
  },
  {
   "cell_type": "code",
   "execution_count": 259,
   "metadata": {
    "collapsed": false
   },
   "outputs": [
    {
     "data": {
      "text/plain": [
       "18"
      ]
     },
     "execution_count": 259,
     "metadata": {},
     "output_type": "execute_result"
    }
   ],
   "source": [
    "len([m for m in pointwiseMI if m==0])"
   ]
  },
  {
   "cell_type": "code",
   "execution_count": null,
   "metadata": {
    "collapsed": true
   },
   "outputs": [],
   "source": [
    "len(pointwiseMI)"
   ]
  },
  {
   "cell_type": "code",
   "execution_count": 246,
   "metadata": {
    "collapsed": false
   },
   "outputs": [],
   "source": [
    "WordPairs['pwMI']=  pointwiseMI*101"
   ]
  },
  {
   "cell_type": "code",
   "execution_count": 247,
   "metadata": {
    "collapsed": false
   },
   "outputs": [
    {
     "data": {
      "text/html": [
       "<div>\n",
       "<table border=\"1\" class=\"dataframe\">\n",
       "  <thead>\n",
       "    <tr style=\"text-align: right;\">\n",
       "      <th></th>\n",
       "      <th>CLCount</th>\n",
       "      <th>IUCount</th>\n",
       "      <th>IUStatus</th>\n",
       "      <th>MatchStatus</th>\n",
       "      <th>StimID</th>\n",
       "      <th>Subject</th>\n",
       "      <th>WCount</th>\n",
       "      <th>Word</th>\n",
       "      <th>WordPosition</th>\n",
       "      <th>Matching</th>\n",
       "      <th>WithinIU</th>\n",
       "      <th>ClauseBoundary</th>\n",
       "      <th>Boundary</th>\n",
       "      <th>BoundaryType</th>\n",
       "      <th>POS</th>\n",
       "      <th>lemWordPairs</th>\n",
       "      <th>pwMI</th>\n",
       "    </tr>\n",
       "  </thead>\n",
       "  <tbody>\n",
       "    <tr>\n",
       "      <th>0</th>\n",
       "      <td>10</td>\n",
       "      <td>14</td>\n",
       "      <td>acrossIU</td>\n",
       "      <td>bothforgotten</td>\n",
       "      <td>0</td>\n",
       "      <td>0</td>\n",
       "      <td>71</td>\n",
       "      <td>Then-when</td>\n",
       "      <td>0.007042</td>\n",
       "      <td>1</td>\n",
       "      <td>0</td>\n",
       "      <td>0</td>\n",
       "      <td>1</td>\n",
       "      <td>IU</td>\n",
       "      <td>RB-WRB</td>\n",
       "      <td>then-when</td>\n",
       "      <td>1.569047</td>\n",
       "    </tr>\n",
       "    <tr>\n",
       "      <th>1</th>\n",
       "      <td>10</td>\n",
       "      <td>14</td>\n",
       "      <td>withinIU</td>\n",
       "      <td>bothforgotten</td>\n",
       "      <td>0</td>\n",
       "      <td>0</td>\n",
       "      <td>71</td>\n",
       "      <td>when-when</td>\n",
       "      <td>0.021127</td>\n",
       "      <td>1</td>\n",
       "      <td>1</td>\n",
       "      <td>0</td>\n",
       "      <td>0</td>\n",
       "      <td>None</td>\n",
       "      <td>WRB-WRB</td>\n",
       "      <td>when-when</td>\n",
       "      <td>1.552772</td>\n",
       "    </tr>\n",
       "    <tr>\n",
       "      <th>2</th>\n",
       "      <td>10</td>\n",
       "      <td>14</td>\n",
       "      <td>withinIU</td>\n",
       "      <td>bothforgotten</td>\n",
       "      <td>0</td>\n",
       "      <td>0</td>\n",
       "      <td>71</td>\n",
       "      <td>when-a</td>\n",
       "      <td>0.035211</td>\n",
       "      <td>1</td>\n",
       "      <td>1</td>\n",
       "      <td>1</td>\n",
       "      <td>1</td>\n",
       "      <td>Clause</td>\n",
       "      <td>WRB-DT</td>\n",
       "      <td>when-a</td>\n",
       "      <td>-0.900086</td>\n",
       "    </tr>\n",
       "    <tr>\n",
       "      <th>3</th>\n",
       "      <td>10</td>\n",
       "      <td>14</td>\n",
       "      <td>withinIU</td>\n",
       "      <td>bothforgotten</td>\n",
       "      <td>0</td>\n",
       "      <td>0</td>\n",
       "      <td>71</td>\n",
       "      <td>a-person</td>\n",
       "      <td>0.049296</td>\n",
       "      <td>1</td>\n",
       "      <td>1</td>\n",
       "      <td>0</td>\n",
       "      <td>0</td>\n",
       "      <td>None</td>\n",
       "      <td>DT-NN</td>\n",
       "      <td>a-person</td>\n",
       "      <td>2.394443</td>\n",
       "    </tr>\n",
       "    <tr>\n",
       "      <th>4</th>\n",
       "      <td>10</td>\n",
       "      <td>14</td>\n",
       "      <td>withinIU</td>\n",
       "      <td>bothforgotten</td>\n",
       "      <td>0</td>\n",
       "      <td>0</td>\n",
       "      <td>71</td>\n",
       "      <td>person-fills</td>\n",
       "      <td>0.063380</td>\n",
       "      <td>1</td>\n",
       "      <td>1</td>\n",
       "      <td>0</td>\n",
       "      <td>0</td>\n",
       "      <td>None</td>\n",
       "      <td>NN-VBZ</td>\n",
       "      <td>person-fill</td>\n",
       "      <td>4.057535</td>\n",
       "    </tr>\n",
       "  </tbody>\n",
       "</table>\n",
       "</div>"
      ],
      "text/plain": [
       "   CLCount  IUCount  IUStatus    MatchStatus  StimID  Subject  WCount  \\\n",
       "0       10       14  acrossIU  bothforgotten       0        0      71   \n",
       "1       10       14  withinIU  bothforgotten       0        0      71   \n",
       "2       10       14  withinIU  bothforgotten       0        0      71   \n",
       "3       10       14  withinIU  bothforgotten       0        0      71   \n",
       "4       10       14  withinIU  bothforgotten       0        0      71   \n",
       "\n",
       "           Word  WordPosition  Matching  WithinIU  ClauseBoundary  Boundary  \\\n",
       "0     Then-when      0.007042         1         0               0         1   \n",
       "1     when-when      0.021127         1         1               0         0   \n",
       "2        when-a      0.035211         1         1               1         1   \n",
       "3      a-person      0.049296         1         1               0         0   \n",
       "4  person-fills      0.063380         1         1               0         0   \n",
       "\n",
       "  BoundaryType      POS lemWordPairs      pwMI  \n",
       "0           IU   RB-WRB    then-when  1.569047  \n",
       "1         None  WRB-WRB    when-when  1.552772  \n",
       "2       Clause   WRB-DT       when-a -0.900086  \n",
       "3         None    DT-NN     a-person  2.394443  \n",
       "4         None   NN-VBZ  person-fill  4.057535  "
      ]
     },
     "execution_count": 247,
     "metadata": {},
     "output_type": "execute_result"
    }
   ],
   "source": [
    "WordPairs[:5]"
   ]
  },
  {
   "cell_type": "code",
   "execution_count": 94,
   "metadata": {
    "collapsed": true
   },
   "outputs": [],
   "source": [
    "import matplotlib.pyplot as plt\n",
    "import seaborn as sns"
   ]
  },
  {
   "cell_type": "code",
   "execution_count": 92,
   "metadata": {
    "collapsed": true
   },
   "outputs": [],
   "source": [
    "%matplotlib inline"
   ]
  },
  {
   "cell_type": "code",
   "execution_count": 251,
   "metadata": {
    "collapsed": false
   },
   "outputs": [
    {
     "data": {
      "text/plain": [
       "<matplotlib.axes._subplots.AxesSubplot at 0x124653450>"
      ]
     },
     "execution_count": 251,
     "metadata": {},
     "output_type": "execute_result"
    },
    {
     "data": {
      "image/png": "[encoded data removed]",
      "text/plain": [
       "<matplotlib.figure.Figure at 0x12499afd0>"
      ]
     },
     "metadata": {},
     "output_type": "display_data"
    }
   ],
   "source": [
    "sns.distplot(WordPairs['pwMI'], axlabel=\"pointwise MI\")"
   ]
  },
  {
   "cell_type": "code",
   "execution_count": 41,
   "metadata": {
    "collapsed": false
   },
   "outputs": [
    {
     "name": "stdout",
     "output_type": "stream",
     "text": [
      "89183\n",
      "89183\n"
     ]
    }
   ],
   "source": [
    "print len(word12)\n",
    "print len(pwMI)"
   ]
  },
  {
   "cell_type": "code",
   "execution_count": 252,
   "metadata": {
    "collapsed": true
   },
   "outputs": [],
   "source": [
    "pd.DataFrame.to_csv(WordPairs, path_or_buf=\"../WordPairsScores_withPOS_MI.csv\", sep='\\t', index=False, columns=WordPairs.columns)"
   ]
  },
  {
   "cell_type": "code",
   "execution_count": 253,
   "metadata": {
    "collapsed": false
   },
   "outputs": [
    {
     "data": {
      "text/plain": [
       "1818"
      ]
     },
     "execution_count": 253,
     "metadata": {},
     "output_type": "execute_result"
    }
   ],
   "source": [
    "sum(WordPairs['pwMI']==0)"
   ]
  }
 ],
 "metadata": {
  "kernelspec": {
   "display_name": "Python 2",
   "language": "python",
   "name": "python2"
  },
  "language_info": {
   "codemirror_mode": {
    "name": "ipython",
    "version": 2
   },
   "file_extension": ".py",
   "mimetype": "text/x-python",
   "name": "python",
   "nbconvert_exporter": "python",
   "pygments_lexer": "ipython2",
   "version": "2.7.11"
  }
 },
 "nbformat": 4,
 "nbformat_minor": 0
}
